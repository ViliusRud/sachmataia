{
 "cells": [
  {
   "cell_type": "code",
   "id": "initial_id",
   "metadata": {
    "collapsed": true,
    "ExecuteTime": {
     "end_time": "2025-05-11T15:24:45.370909Z",
     "start_time": "2025-05-11T15:24:45.204138Z"
    }
   },
   "source": [
    "import unittest\n",
    "from Two_player_chess import Board, Pawn, Queen, Rook, Bishop, Knight, King\n",
    "\n",
    "class TestChess(unittest.TestCase):\n",
    "    \n",
    "    def setUp(self):\n",
    "        self.board = Board()\n",
    "    def run_tests():\n",
    "    # Create a test suite\n",
    "    suite = unittest.TestLoader().loadTestsFromTestCase(TestChess)\n",
    "    # Run the tests\n",
    "    result = unittest.TextTestRunner(verbosity=2).run(suite)\n",
    "    return result\n",
    "\n",
    "\n",
    "# Run the tests\n",
    "run_tests()\n"
   ],
   "outputs": [
    {
     "name": "stdout",
     "output_type": "stream",
     "text": [
      "pygame 2.6.1 (SDL 2.28.4, Python 3.13.3)\n",
      "Hello from the pygame community. https://www.pygame.org/contribute.html\n",
      "Current working directory: C:\\Users\\Vilius\\Desktop\\Two_Player_Chess-main\n",
      "Looking for images in: C:\\Users\\Vilius\\Desktop\\Two_Player_Chess-main\\images\n",
      "Trying to load: images\\bR.png\n",
      "Successfully loaded bR\n",
      "Trying to load: images\\bN.png\n",
      "Successfully loaded bN\n",
      "Trying to load: images\\bB.png\n",
      "Successfully loaded bB\n",
      "Trying to load: images\\bQ.png\n",
      "Successfully loaded bQ\n",
      "Trying to load: images\\bK.png\n",
      "Successfully loaded bK\n",
      "Trying to load: images\\bB.png\n",
      "Successfully loaded bB\n",
      "Trying to load: images\\bN.png\n",
      "Successfully loaded bN\n",
      "Trying to load: images\\bR.png\n",
      "Successfully loaded bR\n",
      "Trying to load: images\\wR.png\n",
      "Successfully loaded wR\n",
      "Trying to load: images\\wN.png\n",
      "Successfully loaded wN\n",
      "Trying to load: images\\wB.png\n",
      "Successfully loaded wB\n",
      "Trying to load: images\\wQ.png\n",
      "Successfully loaded wQ\n",
      "Trying to load: images\\wK.png\n",
      "Successfully loaded wK\n",
      "Trying to load: images\\wB.png\n",
      "Successfully loaded wB\n",
      "Trying to load: images\\wN.png\n",
      "Successfully loaded wN\n",
      "Trying to load: images\\wR.png\n",
      "Successfully loaded wR\n",
      "Trying to load: images\\bp.png\n",
      "Successfully loaded bp\n",
      "Trying to load: images\\wp.png\n",
      "Successfully loaded wp\n"
     ]
    }
   ],
   "execution_count": 1
  },
  {
   "metadata": {
    "ExecuteTime": {
     "end_time": "2025-05-11T15:24:45.381708Z",
     "start_time": "2025-05-11T15:24:45.377771Z"
    }
   },
   "cell_type": "code",
   "source": [
    "    \n",
    "    def test_pawn_promotion(self):\n",
    "        # Setup a pawn near promotion\n",
    "        self.board.grid[1][0] = Pawn('white', (1, 0))\n",
    "        pawn = self.board.grid[1][0]\n",
    "\n",
    "        # Select and move the pawn\n",
    "        self.board.select_piece((1, 0))\n",
    "        self.board.move_piece((0, 0))  # Move to promotion square\n",
    "\n",
    "        # Verify pawn is ready for promotion\n",
    "        self.assertIsNotNone(self.board.promoting_pawn)\n",
    "\n",
    "        # Promote to queen\n",
    "        self.board.promote_pawn('queen')\n",
    "\n",
    "        # Verify promotion\n",
    "        promoted_piece = self.board.grid[0][0]\n",
    "        self.assertIsInstance(promoted_piece, Queen)\n",
    "        self.assertEqual(promoted_piece.color, 'white')\n",
    "        self.assertEqual(promoted_piece.position, (0, 0))\n",
    "\n",
    "        # Verify turn changed\n",
    "        self.assertEqual(self.board.current_turn, 'black')\n",
    "\n",
    "    def test_queen_movement_after_promotion(self):\n",
    "        # Setup a pawn and promote it to queen\n",
    "        self.board.grid[1][0] = Pawn('white', (1, 0))\n",
    "        self.board.select_piece((1, 0))\n",
    "        self.board.move_piece((0, 0))\n",
    "        self.board.promote_pawn('queen')\n",
    "\n",
    "        # Test queen movement\n",
    "        queen = self.board.grid[0][0]\n",
    "        self.board.select_piece((0, 0))\n",
    "        valid_moves = self.board.valid_moves\n",
    "\n",
    "        # Queen should be able to move diagonally and straight\n",
    "        expected_moves = [(1, 1), (2, 2), (3, 3), (1, 0), (2, 0), (3, 0),\n",
    "                         (0, 1), (0, 2), (0, 3)]\n",
    "        for move in expected_moves:\n",
    "            self.assertIn(move, valid_moves)\n",
    "    "
   ],
   "id": "3ffbbaf96702c2c6",
   "outputs": [],
   "execution_count": 2
  },
  {
   "metadata": {
    "ExecuteTime": {
     "end_time": "2025-05-11T15:24:45.435142Z",
     "start_time": "2025-05-11T15:24:45.430677Z"
    }
   },
   "cell_type": "code",
   "source": [
    "if __name__ == '__main__':\n",
    "    unittest.main(argv=['first-arg-is-ignored'], exit=False)"
   ],
   "id": "6648447041d830d4",
   "outputs": [
    {
     "name": "stderr",
     "output_type": "stream",
     "text": [
      "\n",
      "----------------------------------------------------------------------\n",
      "Ran 0 tests in 0.000s\n",
      "\n",
      "NO TESTS RAN\n"
     ]
    }
   ],
   "execution_count": 3
  }
 ],
 "metadata": {
  "kernelspec": {
   "display_name": "Python 3",
   "language": "python",
   "name": "python3"
  },
  "language_info": {
   "codemirror_mode": {
    "name": "ipython",
    "version": 2
   },
   "file_extension": ".py",
   "mimetype": "text/x-python",
   "name": "python",
   "nbconvert_exporter": "python",
   "pygments_lexer": "ipython2",
   "version": "2.7.6"
  }
 },
 "nbformat": 4,
 "nbformat_minor": 5
}
